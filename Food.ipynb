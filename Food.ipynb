{
  "nbformat": 4,
  "nbformat_minor": 0,
  "metadata": {
    "colab": {
      "provenance": [],
      "authorship_tag": "ABX9TyPKLqt0xx8PK4aVetUTc/Jq",
      "include_colab_link": true
    },
    "kernelspec": {
      "name": "python3",
      "display_name": "Python 3"
    },
    "language_info": {
      "name": "python"
    }
  },
  "cells": [
    {
      "cell_type": "markdown",
      "metadata": {
        "id": "view-in-github",
        "colab_type": "text"
      },
      "source": [
        "<a href=\"https://colab.research.google.com/github/Taufiq-ML/FOOD/blob/main/Food.ipynb\" target=\"_parent\"><img src=\"https://colab.research.google.com/assets/colab-badge.svg\" alt=\"Open In Colab\"/></a>"
      ]
    },
    {
      "cell_type": "code",
      "execution_count": 1,
      "metadata": {
        "colab": {
          "base_uri": "https://localhost:8080/"
        },
        "id": "itQ5DNTZReGU",
        "outputId": "fad966ac-2f59-45df-ec80-1fec4f9a58b8"
      },
      "outputs": [
        {
          "output_type": "stream",
          "name": "stdout",
          "text": [
            "   supplier_id  delivery_delays  quality_issues  pricing_volatility  \\\n",
            "0            1                6               2                0.70   \n",
            "1            2                3               5                0.45   \n",
            "2            3                7               2                0.33   \n",
            "3            4                4               4                0.46   \n",
            "4            5                6               5                0.83   \n",
            "\n",
            "   risk_score  \n",
            "0           1  \n",
            "1           1  \n",
            "2           0  \n",
            "3           0  \n",
            "4           1  \n",
            "Random Forest Accuracy: 0.5073333333333333\n",
            "              precision    recall  f1-score   support\n",
            "\n",
            "           0       0.51      0.52      0.51      1513\n",
            "           1       0.50      0.50      0.50      1487\n",
            "\n",
            "    accuracy                           0.51      3000\n",
            "   macro avg       0.51      0.51      0.51      3000\n",
            "weighted avg       0.51      0.51      0.51      3000\n",
            "\n",
            "Decision Tree Accuracy: 0.512\n",
            "              precision    recall  f1-score   support\n",
            "\n",
            "           0       0.52      0.52      0.52      1513\n",
            "           1       0.51      0.51      0.51      1487\n",
            "\n",
            "    accuracy                           0.51      3000\n",
            "   macro avg       0.51      0.51      0.51      3000\n",
            "weighted avg       0.51      0.51      0.51      3000\n",
            "\n",
            "SVM Accuracy: 0.49733333333333335\n",
            "              precision    recall  f1-score   support\n",
            "\n",
            "           0       0.50      0.52      0.51      1513\n",
            "           1       0.49      0.48      0.48      1487\n",
            "\n",
            "    accuracy                           0.50      3000\n",
            "   macro avg       0.50      0.50      0.50      3000\n",
            "weighted avg       0.50      0.50      0.50      3000\n",
            "\n"
          ]
        }
      ],
      "source": [
        "# Import necessary libraries\n",
        "import pandas as pd\n",
        "from sklearn.model_selection import train_test_split\n",
        "from sklearn.preprocessing import StandardScaler\n",
        "from sklearn.ensemble import RandomForestClassifier\n",
        "from sklearn.metrics import classification_report, accuracy_score\n",
        "from sklearn.tree import DecisionTreeClassifier\n",
        "from sklearn.svm import SVC\n",
        "\n",
        "# Load dataset\n",
        "url = \"/content/supplier_risk_dataset.csv\"\n",
        "df = pd.read_csv(url)\n",
        "\n",
        "# Explore the dataset\n",
        "print(df.head())\n",
        "\n",
        "# Data Preprocessing\n",
        "# Assuming 'risk_score' is the target and other columns are features\n",
        "X = df.drop('risk_score', axis=1)\n",
        "y = df['risk_score']\n",
        "\n",
        "# Splitting data into training and test sets\n",
        "X_train, X_test, y_train, y_test = train_test_split(X, y, test_size=0.3, random_state=42)\n",
        "\n",
        "# Standardize the features\n",
        "scaler = StandardScaler()\n",
        "X_train = scaler.fit_transform(X_train)\n",
        "X_test = scaler.transform(X_test)\n",
        "\n",
        "# Model Training: Random Forest\n",
        "rf_model = RandomForestClassifier(n_estimators=100, random_state=42)\n",
        "rf_model.fit(X_train, y_train)\n",
        "\n",
        "# Model Training: Decision Tree\n",
        "dt_model = DecisionTreeClassifier(random_state=42)\n",
        "dt_model.fit(X_train, y_train)\n",
        "\n",
        "# Model Training: SVM\n",
        "svm_model = SVC(kernel='rbf', random_state=42)\n",
        "svm_model.fit(X_train, y_train)\n",
        "\n",
        "# Model Evaluation: Random Forest\n",
        "y_pred_rf = rf_model.predict(X_test)\n",
        "print(\"Random Forest Accuracy:\", accuracy_score(y_test, y_pred_rf))\n",
        "print(classification_report(y_test, y_pred_rf))\n",
        "\n",
        "# Model Evaluation: Decision Tree\n",
        "y_pred_dt = dt_model.predict(X_test)\n",
        "print(\"Decision Tree Accuracy:\", accuracy_score(y_test, y_pred_dt))\n",
        "print(classification_report(y_test, y_pred_dt))\n",
        "\n",
        "# Model Evaluation: SVM\n",
        "y_pred_svm = svm_model.predict(X_test)\n",
        "print(\"SVM Accuracy:\", accuracy_score(y_test, y_pred_svm))\n",
        "print(classification_report(y_test, y_pred_svm))\n"
      ]
    }
  ]
}